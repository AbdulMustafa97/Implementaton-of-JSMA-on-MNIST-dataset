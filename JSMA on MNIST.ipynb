{
 "cells": [
  {
   "cell_type": "code",
   "execution_count": 1,
   "id": "ab323939",
   "metadata": {},
   "outputs": [
    {
     "name": "stderr",
     "output_type": "stream",
     "text": [
      "Using TensorFlow backend.\n",
      "C:\\Users\\hp\\anaconda3\\envs\\tensorflow2\\lib\\site-packages\\tensorflow\\python\\framework\\dtypes.py:516: FutureWarning: Passing (type, 1) or '1type' as a synonym of type is deprecated; in a future version of numpy, it will be understood as (type, (1,)) / '(1,)type'.\n",
      "  _np_qint8 = np.dtype([(\"qint8\", np.int8, 1)])\n",
      "C:\\Users\\hp\\anaconda3\\envs\\tensorflow2\\lib\\site-packages\\tensorflow\\python\\framework\\dtypes.py:517: FutureWarning: Passing (type, 1) or '1type' as a synonym of type is deprecated; in a future version of numpy, it will be understood as (type, (1,)) / '(1,)type'.\n",
      "  _np_quint8 = np.dtype([(\"quint8\", np.uint8, 1)])\n",
      "C:\\Users\\hp\\anaconda3\\envs\\tensorflow2\\lib\\site-packages\\tensorflow\\python\\framework\\dtypes.py:518: FutureWarning: Passing (type, 1) or '1type' as a synonym of type is deprecated; in a future version of numpy, it will be understood as (type, (1,)) / '(1,)type'.\n",
      "  _np_qint16 = np.dtype([(\"qint16\", np.int16, 1)])\n",
      "C:\\Users\\hp\\anaconda3\\envs\\tensorflow2\\lib\\site-packages\\tensorflow\\python\\framework\\dtypes.py:519: FutureWarning: Passing (type, 1) or '1type' as a synonym of type is deprecated; in a future version of numpy, it will be understood as (type, (1,)) / '(1,)type'.\n",
      "  _np_quint16 = np.dtype([(\"quint16\", np.uint16, 1)])\n",
      "C:\\Users\\hp\\anaconda3\\envs\\tensorflow2\\lib\\site-packages\\tensorflow\\python\\framework\\dtypes.py:520: FutureWarning: Passing (type, 1) or '1type' as a synonym of type is deprecated; in a future version of numpy, it will be understood as (type, (1,)) / '(1,)type'.\n",
      "  _np_qint32 = np.dtype([(\"qint32\", np.int32, 1)])\n",
      "C:\\Users\\hp\\anaconda3\\envs\\tensorflow2\\lib\\site-packages\\tensorflow\\python\\framework\\dtypes.py:525: FutureWarning: Passing (type, 1) or '1type' as a synonym of type is deprecated; in a future version of numpy, it will be understood as (type, (1,)) / '(1,)type'.\n",
      "  np_resource = np.dtype([(\"resource\", np.ubyte, 1)])\n",
      "C:\\Users\\hp\\anaconda3\\envs\\tensorflow2\\lib\\site-packages\\tensorboard\\compat\\tensorflow_stub\\dtypes.py:541: FutureWarning: Passing (type, 1) or '1type' as a synonym of type is deprecated; in a future version of numpy, it will be understood as (type, (1,)) / '(1,)type'.\n",
      "  _np_qint8 = np.dtype([(\"qint8\", np.int8, 1)])\n",
      "C:\\Users\\hp\\anaconda3\\envs\\tensorflow2\\lib\\site-packages\\tensorboard\\compat\\tensorflow_stub\\dtypes.py:542: FutureWarning: Passing (type, 1) or '1type' as a synonym of type is deprecated; in a future version of numpy, it will be understood as (type, (1,)) / '(1,)type'.\n",
      "  _np_quint8 = np.dtype([(\"quint8\", np.uint8, 1)])\n",
      "C:\\Users\\hp\\anaconda3\\envs\\tensorflow2\\lib\\site-packages\\tensorboard\\compat\\tensorflow_stub\\dtypes.py:543: FutureWarning: Passing (type, 1) or '1type' as a synonym of type is deprecated; in a future version of numpy, it will be understood as (type, (1,)) / '(1,)type'.\n",
      "  _np_qint16 = np.dtype([(\"qint16\", np.int16, 1)])\n",
      "C:\\Users\\hp\\anaconda3\\envs\\tensorflow2\\lib\\site-packages\\tensorboard\\compat\\tensorflow_stub\\dtypes.py:544: FutureWarning: Passing (type, 1) or '1type' as a synonym of type is deprecated; in a future version of numpy, it will be understood as (type, (1,)) / '(1,)type'.\n",
      "  _np_quint16 = np.dtype([(\"quint16\", np.uint16, 1)])\n",
      "C:\\Users\\hp\\anaconda3\\envs\\tensorflow2\\lib\\site-packages\\tensorboard\\compat\\tensorflow_stub\\dtypes.py:545: FutureWarning: Passing (type, 1) or '1type' as a synonym of type is deprecated; in a future version of numpy, it will be understood as (type, (1,)) / '(1,)type'.\n",
      "  _np_qint32 = np.dtype([(\"qint32\", np.int32, 1)])\n",
      "C:\\Users\\hp\\anaconda3\\envs\\tensorflow2\\lib\\site-packages\\tensorboard\\compat\\tensorflow_stub\\dtypes.py:550: FutureWarning: Passing (type, 1) or '1type' as a synonym of type is deprecated; in a future version of numpy, it will be understood as (type, (1,)) / '(1,)type'.\n",
      "  np_resource = np.dtype([(\"resource\", np.ubyte, 1)])\n"
     ]
    },
    {
     "name": "stdout",
     "output_type": "stream",
     "text": [
      "WARNING:tensorflow:From C:\\Users\\hp\\AppData\\Local\\Temp/ipykernel_9416/3527166411.py:8: The name tf.Session is deprecated. Please use tf.compat.v1.Session instead.\n",
      "\n"
     ]
    }
   ],
   "source": [
    "# Importing all required libraries\n",
    "\n",
    "import numpy as np\n",
    "from keras.datasets import mnist\n",
    "from keras.datasets import cifar10\n",
    "import matplotlib.pyplot as plt\n",
    "import tensorflow as tf\n",
    "import keras\n",
    "\n",
    "# Creating tensorflow and keras session\n",
    "\n",
    "# A session is create cause it allocates resources and holds the actual values of intermediate results and variables.\n",
    "\n",
    "# Keras acts as an interface for the TensorFlow library.\n",
    "\n",
    "session = tf.Session()\n",
    "keras.backend.set_session(session)"
   ]
  },
  {
   "cell_type": "code",
   "execution_count": 2,
   "id": "3b332d13",
   "metadata": {},
   "outputs": [
    {
     "name": "stdout",
     "output_type": "stream",
     "text": [
      "Downloading data from https://s3.amazonaws.com/img-datasets/mnist.npz\n"
     ]
    }
   ],
   "source": [
    "# MNIST is a dataset for black and white handwritten digits. This dataset is particularly simple, as we will see, neural\n",
    "# networks can achieve very high levels of test accuracy.\n",
    "\n",
    "# Each image is 28 x 28, for a size of 784 for each input.\n",
    "\n",
    "# Splitting dataset into training and testing\n",
    "\n",
    "(mn_x_train, mn_y_train), (mn_x_test, mn_y_test) = mnist.load_data()"
   ]
  },
  {
   "cell_type": "code",
   "execution_count": 3,
   "id": "135f5ecb",
   "metadata": {},
   "outputs": [
    {
     "name": "stdout",
     "output_type": "stream",
     "text": [
      "Training Examples: 60000\n",
      "Test Examples: 10000\n"
     ]
    }
   ],
   "source": [
    "# Printing sizes\n",
    "\n",
    "print (\"Training Examples: %d\" % len(mn_x_train))\n",
    "print (\"Test Examples: %d\" % len(mn_x_test))"
   ]
  },
  {
   "cell_type": "code",
   "execution_count": 4,
   "id": "006c2ceb",
   "metadata": {},
   "outputs": [
    {
     "data": {
      "image/png": "[encoded data removed]",
      "text/plain": [
       "<Figure size 720x360 with 10 Axes>"
      ]
     },
     "metadata": {
      "needs_background": "light"
     },
     "output_type": "display_data"
    }
   ],
   "source": [
    "n_classes = 10 # Number of class labels (from 0 to 9)\n",
    "inds=np.array([mn_y_train==i for i in range(n_classes)]) # creating numpy array of indexes for all 10 class labels\n",
    "f,ax=plt.subplots(2,5,figsize=(10,5))\n",
    "ax=ax.flatten() # image flattening\n",
    "for i in range(n_classes):\n",
    "    ax[i].imshow(mn_x_train[np.argmax(inds[i])].reshape(28,28))\n",
    "    ax[i].set_title(str(i))\n",
    "plt.show()"
   ]
  },
  {
   "cell_type": "markdown",
   "id": "139cffbd",
   "metadata": {},
   "source": [
    "# Neural Network Training"
   ]
  },
  {
   "cell_type": "markdown",
   "id": "de554c52",
   "metadata": {},
   "source": [
    "Keras is a high level library which can be used to train neural network models. It simplies coding neural networks for the datasets, and as installed, uses tensorflow for the backend. We use Keras for its simplicity and because these models can easily be linked into the cleverhans library to generate adversarial examples."
   ]
  },
  {
   "cell_type": "code",
   "execution_count": 7,
   "id": "af43af80",
   "metadata": {},
   "outputs": [
    {
     "name": "stdout",
     "output_type": "stream",
     "text": [
      "WARNING:tensorflow:From C:\\Users\\hp\\anaconda3\\envs\\tensorflow2\\lib\\site-packages\\keras\\backend\\tensorflow_backend.py:47: The name tf.get_default_graph is deprecated. Please use tf.compat.v1.get_default_graph instead.\n",
      "\n",
      "WARNING:tensorflow:From C:\\Users\\hp\\anaconda3\\envs\\tensorflow2\\lib\\site-packages\\keras\\backend\\tensorflow_backend.py:349: The name tf.placeholder is deprecated. Please use tf.compat.v1.placeholder instead.\n",
      "\n",
      "WARNING:tensorflow:From C:\\Users\\hp\\anaconda3\\envs\\tensorflow2\\lib\\site-packages\\keras\\backend\\tensorflow_backend.py:3147: The name tf.random_uniform is deprecated. Please use tf.random.uniform instead.\n",
      "\n",
      "WARNING:tensorflow:From C:\\Users\\hp\\anaconda3\\envs\\tensorflow2\\lib\\site-packages\\keras\\optimizers.py:675: The name tf.train.Optimizer is deprecated. Please use tf.compat.v1.train.Optimizer instead.\n",
      "\n",
      "WARNING:tensorflow:From C:\\Users\\hp\\anaconda3\\envs\\tensorflow2\\lib\\site-packages\\keras\\backend\\tensorflow_backend.py:2550: calling reduce_sum_v1 (from tensorflow.python.ops.math_ops) with keep_dims is deprecated and will be removed in a future version.\n",
      "Instructions for updating:\n",
      "keep_dims is deprecated, use keepdims instead\n",
      "WARNING:tensorflow:From C:\\Users\\hp\\anaconda3\\envs\\tensorflow2\\lib\\site-packages\\keras\\backend\\tensorflow_backend.py:2554: The name tf.log is deprecated. Please use tf.math.log instead.\n",
      "\n"
     ]
    }
   ],
   "source": [
    "# Sequential model is a linear stack of layers.\n",
    "\n",
    "from keras import models\n",
    "from keras import layers\n",
    "\n",
    "network = models.Sequential()\n",
    "network.add(layers.Dense(512, activation='relu', input_shape=(28 * 28,)))\n",
    "network.add(layers.Dense(10, activation='softmax'))\n",
    "\n",
    "network.compile(optimizer='rmsprop',\n",
    "                loss='categorical_crossentropy',\n",
    "                metrics=['accuracy'])"
   ]
  },
  {
   "cell_type": "markdown",
   "id": "29214867",
   "metadata": {},
   "source": [
    "The data must be pre-processed before analysis. We flatten the image and normalize the images so pixel values are between 0 and 1 instead of 0 and 255. The labels must also be inputted as one hot vectors, so we use built in keras functions."
   ]
  },
  {
   "cell_type": "code",
   "execution_count": 8,
   "id": "60c08164",
   "metadata": {},
   "outputs": [],
   "source": [
    "train_images_1d = mn_x_train.reshape((60000, 28 * 28))\n",
    "train_images_1d = train_images_1d.astype('float32') / 255\n",
    "\n",
    "test_images_1d = mn_x_test.reshape((10000, 28 * 28))\n",
    "test_images_1d = test_images_1d.astype('float32') / 255"
   ]
  },
  {
   "cell_type": "code",
   "execution_count": 9,
   "id": "fd739789",
   "metadata": {},
   "outputs": [],
   "source": [
    "from keras.utils import to_categorical #this just converts the labels to one-hot class\n",
    "train_labels = to_categorical(mn_y_train)\n",
    "test_labels = to_categorical(mn_y_test)"
   ]
  },
  {
   "cell_type": "markdown",
   "id": "3b50682c",
   "metadata": {},
   "source": [
    "Training the network does not take long and can easily be done quickly on a CPU. Validation accuracy quickly rises to about 99%."
   ]
  },
  {
   "cell_type": "code",
   "execution_count": 12,
   "id": "97cd5370",
   "metadata": {},
   "outputs": [
    {
     "name": "stdout",
     "output_type": "stream",
     "text": [
      "WARNING:tensorflow:From C:\\Users\\hp\\anaconda3\\envs\\tensorflow2\\lib\\site-packages\\tensorflow\\python\\ops\\math_grad.py:1250: add_dispatch_support.<locals>.wrapper (from tensorflow.python.ops.array_ops) is deprecated and will be removed in a future version.\n",
      "Instructions for updating:\n",
      "Use tf.where in 2.0, which has the same broadcast rule as np.where\n",
      "WARNING:tensorflow:From C:\\Users\\hp\\anaconda3\\envs\\tensorflow2\\lib\\site-packages\\keras\\backend\\tensorflow_backend.py:519: calling Constant.__init__ (from tensorflow.python.ops.init_ops) with dtype is deprecated and will be removed in a future version.\n",
      "Instructions for updating:\n",
      "Call initializer instance with the dtype argument instead of passing it to the constructor\n",
      "Epoch 1/5\n",
      "60000/60000 [==============================] - 6s - loss: 0.2551 - acc: 0.9254     \n",
      "Epoch 2/5\n",
      " 1792/60000 [..............................] - ETA: 6s - loss: 0.1245 - acc: 0.9581"
     ]
    },
    {
     "name": "stderr",
     "output_type": "stream",
     "text": [
      "C:\\Users\\hp\\anaconda3\\envs\\tensorflow2\\lib\\site-packages\\keras\\callbacks.py:388: RuntimeWarning: Can save best model only with val_loss available, skipping.\n",
      "  'skipping.' % (self.monitor), RuntimeWarning)\n"
     ]
    },
    {
     "name": "stdout",
     "output_type": "stream",
     "text": [
      "60000/60000 [==============================] - 6s - loss: 0.1035 - acc: 0.9694     - ETA: 0s - loss: 0.105\n",
      "Epoch 3/5\n",
      "60000/60000 [==============================] - 6s - loss: 0.0681 - acc: 0.9798     \n",
      "Epoch 4/5\n",
      "60000/60000 [==============================] - 7s - loss: 0.0495 - acc: 0.9846     \n",
      "Epoch 5/5\n",
      "60000/60000 [==============================] - 6s - loss: 0.0364 - acc: 0.9894     \n"
     ]
    }
   ],
   "source": [
    "from keras.callbacks import ModelCheckpoint\n",
    "\n",
    "h=network.fit(train_images_1d, \n",
    "              train_labels, \n",
    "              epochs=5, \n",
    "              batch_size=128, \n",
    "              shuffle=True, \n",
    "              callbacks=[ModelCheckpoint('tutorial_MNIST.h5',save_best_only=True)])"
   ]
  },
  {
   "cell_type": "code",
   "execution_count": 13,
   "id": "ba749d13",
   "metadata": {},
   "outputs": [
    {
     "data": {
      "image/png": "[encoded data removed]",
      "text/plain": [
       "<Figure size 432x288 with 1 Axes>"
      ]
     },
     "metadata": {
      "needs_background": "light"
     },
     "output_type": "display_data"
    }
   ],
   "source": [
    "# summarize history for accuracy\n",
    "plt.plot(h.history['acc'])\n",
    "plt.title('model accuracy')\n",
    "plt.ylabel('accuracy')\n",
    "plt.xlabel('epoch')\n",
    "plt.legend(['train'], loc='upper left')\n",
    "plt.show()"
   ]
  },
  {
   "cell_type": "code",
   "execution_count": 14,
   "id": "05e2431f",
   "metadata": {},
   "outputs": [
    {
     "name": "stdout",
     "output_type": "stream",
     "text": [
      " 9728/10000 [============================>.] - ETA: 0sTest Accuracy: 0.98190\n"
     ]
    }
   ],
   "source": [
    "score, acc = network.evaluate(test_images_1d, \n",
    "                            test_labels,\n",
    "                            batch_size=128)\n",
    "\n",
    "print (\"Test Accuracy: %.5f\" % acc)"
   ]
  },
  {
   "cell_type": "code",
   "execution_count": 15,
   "id": "ccba5981",
   "metadata": {},
   "outputs": [],
   "source": [
    "network.save('tutorial_MNIST.h5')"
   ]
  },
  {
   "cell_type": "markdown",
   "id": "f88039c3",
   "metadata": {},
   "source": [
    "# Cleverhans Integration"
   ]
  },
  {
   "cell_type": "markdown",
   "id": "d547be83",
   "metadata": {},
   "source": [
    "Cleverhans is a library written by researchers on adversarial examples, many of whom are with Google Brain. The library has wrappers that allow us to take the Keras model that we just made (or an already trained model) and create adversarial examples.\n",
    "\n",
    "If the model has already been created and we do not want to recreate it, just run the code below to reload the model."
   ]
  },
  {
   "cell_type": "code",
   "execution_count": 16,
   "id": "1e0e2ef7",
   "metadata": {},
   "outputs": [],
   "source": [
    "from keras.models import load_model\n",
    "network = load_model('tutorial_MNIST.h5')"
   ]
  },
  {
   "cell_type": "code",
   "execution_count": 17,
   "id": "632c607c",
   "metadata": {},
   "outputs": [],
   "source": [
    "from cleverhans.utils_keras import KerasModelWrapper\n",
    "wrap = KerasModelWrapper(network)"
   ]
  },
  {
   "cell_type": "code",
   "execution_count": 18,
   "id": "f1cf7de7",
   "metadata": {},
   "outputs": [],
   "source": [
    "x = tf.placeholder(tf.float32, shape=(None, 784))\n",
    "y = tf.placeholder(tf.float32, shape=(None, 10))\n",
    "\n",
    "results = np.zeros((10, 10000))\n",
    "perturbations = np.zeros((10, 10000))\n",
    "grid_shape = (10, 10, 28, 28, 1)\n",
    "grid_data = np.zeros(grid_shape)\n",
    "\n",
    "\n",
    "from cleverhans.attacks import SaliencyMapMethod\n",
    "jsma = SaliencyMapMethod(wrap, sess=session)\n",
    "\n",
    "jsma_params = {'theta': 1., \n",
    "               'gamma': 0.1,\n",
    "               'clip_min': 0., \n",
    "               'clip_max': 1.,\n",
    "               'y_target': None}"
   ]
  },
  {
   "cell_type": "code",
   "execution_count": 19,
   "id": "91ce45b6",
   "metadata": {},
   "outputs": [
    {
     "name": "stderr",
     "output_type": "stream",
     "text": [
      "[INFO 2021-11-20 16:23:39,541 cleverhans] Constructing new graph for attack SaliencyMapMethod\n",
      "C:\\Users\\hp\\anaconda3\\envs\\tensorflow2\\lib\\site-packages\\cleverhans\\attacks_tf.py:356: UserWarning: Downcasting labels---this should be harmless unless they are smoothed\n",
      "  warnings.warn(\"Downcasting labels---this should be harmless unless\"\n"
     ]
    },
    {
     "name": "stdout",
     "output_type": "stream",
     "text": [
      "0\n",
      "(1, 784)\n",
      "[[0. 0. 0. 0. 0. 0. 0. 0. 0. 1.]]\n",
      "(1, 784)\n",
      "10\n",
      "(1, 784)\n",
      "[[0. 0. 0. 0. 0. 0. 0. 0. 0. 1.]]\n",
      "(1, 784)\n",
      "20\n",
      "(1, 784)\n",
      "[[0. 0. 0. 0. 0. 0. 0. 0. 1. 0.]]\n",
      "(1, 784)\n",
      "30\n",
      "(1, 784)\n",
      "[[0. 0. 0. 0. 0. 0. 0. 0. 0. 1.]]\n",
      "(1, 784)\n",
      "40\n",
      "(1, 784)\n",
      "[[0. 0. 0. 0. 0. 0. 0. 0. 0. 1.]]\n",
      "(1, 784)\n",
      "50\n",
      "(1, 784)\n",
      "[[0. 0. 0. 0. 0. 0. 0. 0. 0. 1.]]\n",
      "(1, 784)\n",
      "60\n",
      "(1, 784)\n",
      "[[0. 0. 0. 0. 0. 0. 0. 0. 0. 1.]]\n",
      "(1, 784)\n",
      "70\n",
      "(1, 784)\n",
      "[[0. 0. 0. 0. 0. 0. 0. 0. 0. 1.]]\n",
      "(1, 784)\n",
      "80\n",
      "(1, 784)\n",
      "[[0. 0. 0. 0. 0. 0. 0. 0. 0. 1.]]\n",
      "(1, 784)\n",
      "90\n",
      "(1, 784)\n",
      "[[0. 0. 0. 0. 0. 0. 0. 0. 0. 1.]]\n",
      "(1, 784)\n"
     ]
    }
   ],
   "source": [
    "from cleverhans.utils import other_classes, grid_visual\n",
    "\n",
    "for index in range(int(len(mn_x_test) / 100)):\n",
    "    sample = test_images_1d[index: index + 1]\n",
    "    current = mn_y_test[index]\n",
    "    target_classes = other_classes(10, current)\n",
    "    grid_data[current, current, :, :, :] = np.reshape(\n",
    "            sample, (28, 28, 1))\n",
    "    \n",
    "    for target in target_classes:\n",
    "        one_hot_target = np.zeros((1, 10))\n",
    "        one_hot_target[0, target] = 1\n",
    "        jsma_params['y_target'] = one_hot_target\n",
    "        adv_x = jsma.generate_np(sample, **jsma_params)\n",
    "        \n",
    "        grid_data[target, current, :, :, :] = np.reshape(\n",
    "                adv_x, (28, 28, 1))\n",
    "        \n",
    "    if index % 10 == 0:\n",
    "        print(index)\n",
    "        print(sample.shape)\n",
    "        print(one_hot_target)\n",
    "        print(adv_x.shape)"
   ]
  },
  {
   "cell_type": "code",
   "execution_count": 20,
   "id": "86242cd1",
   "metadata": {},
   "outputs": [
    {
     "name": "stderr",
     "output_type": "stream",
     "text": [
      "C:\\Users\\hp\\anaconda3\\envs\\tensorflow2\\lib\\site-packages\\cleverhans\\utils.py:173: UserWarning: `grid_visual` has moved to `cleverhans.plot.pyplot_image`. cleverhans.utils.grid_visual may be removed on or after 2019-04-24.\n",
      "  warnings.warn(\"`grid_visual` has moved to `cleverhans.plot.pyplot_image`. \"\n",
      "C:\\Users\\hp\\anaconda3\\envs\\tensorflow2\\lib\\site-packages\\cleverhans\\plot\\pyplot_image.py:63: MatplotlibDeprecationWarning: \n",
      "The set_window_title function was deprecated in Matplotlib 3.4 and will be removed two minor releases later. Use manager.set_window_title or GUI-specific methods instead.\n",
      "  figure.canvas.set_window_title('Cleverhans: Grid Visualization')\n"
     ]
    },
    {
     "data": {
      "text/plain": [
       "<Figure size 5760x5760 with 0 Axes>"
      ]
     },
     "metadata": {},
     "output_type": "display_data"
    },
    {
     "data": {
      "image/png": "[encoded data removed]",
      "text/plain": [
       "<Figure size 432x288 with 100 Axes>"
      ]
     },
     "metadata": {
      "needs_background": "light"
     },
     "output_type": "display_data"
    }
   ],
   "source": [
    "plt.figure(figsize = (80, 80))\n",
    "_ = grid_visual(grid_data)"
   ]
  }
 ],
 "metadata": {
  "kernelspec": {
   "display_name": "Python 3 (ipykernel)",
   "language": "python",
   "name": "python3"
  },
  "language_info": {
   "codemirror_mode": {
    "name": "ipython",
    "version": 3
   },
   "file_extension": ".py",
   "mimetype": "text/x-python",
   "name": "python",
   "nbconvert_exporter": "python",
   "pygments_lexer": "ipython3",
   "version": "3.7.11"
  }
 },
 "nbformat": 4,
 "nbformat_minor": 5
}
